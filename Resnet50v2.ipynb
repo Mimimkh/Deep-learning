{
 "cells": [
  {
   "cell_type": "code",
   "execution_count": 1,
   "metadata": {},
   "outputs": [
    {
     "name": "stdout",
     "output_type": "stream",
     "text": [
      "TensorFlow version is  1.13.1\n"
     ]
    }
   ],
   "source": [
    "from __future__ import absolute_import, division, print_function\n",
    "import pandas as pd\n",
    "import os\n",
    "import random\n",
    "import glob\n",
    "import tensorflow as tf\n",
    "import csv\n",
    "import IPython.display as display\n",
    "\n",
    "from tensorflow import keras\n",
    "from tensorflow.keras.callbacks import EarlyStopping\n",
    "from tensorflow.keras.callbacks import ModelCheckpoint\n",
    "print(\"TensorFlow version is \", tf.__version__)\n",
    "\n",
    "import numpy as np\n",
    "\n",
    "import matplotlib.pyplot as plt\n",
    "import matplotlib.image as mpimg\n",
    "\n",
    "from sklearn.preprocessing import MultiLabelBinarizer\n",
    "from sklearn.model_selection import train_test_split\n",
    "import matplotlib.pyplot as plt\n",
    "import numpy as np\n",
    "import argparse\n",
    "import random\n",
    "import pickle\n",
    "import cv2\n",
    "import os"
   ]
  },
  {
   "cell_type": "markdown",
   "metadata": {},
   "source": [
    "# Set up Hyperparameters"
   ]
  },
  {
   "cell_type": "code",
   "execution_count": 2,
   "metadata": {},
   "outputs": [],
   "source": [
    "RANDOM_STATE = 42\n",
    "LR = 1e-4\n",
    "BS = 64\n",
    "IMG_SIZE = (256, 256)\n",
    "NUM_CLASSES=20\n",
    "TEST_SIZE = 0.2\n",
    "\n",
    "# Used for model training\n",
    "EPOCHS = 20\n",
    "N_WORKERS = 8\n",
    "\n",
    "N_LAYERS_FINE_TUNE = 5"
   ]
  },
  {
   "cell_type": "markdown",
   "metadata": {},
   "source": [
    "# Load data"
   ]
  },
  {
   "cell_type": "code",
   "execution_count": 3,
   "metadata": {},
   "outputs": [
    {
     "data": {
      "text/html": [
       "<div>\n",
       "<style scoped>\n",
       "    .dataframe tbody tr th:only-of-type {\n",
       "        vertical-align: middle;\n",
       "    }\n",
       "\n",
       "    .dataframe tbody tr th {\n",
       "        vertical-align: top;\n",
       "    }\n",
       "\n",
       "    .dataframe thead th {\n",
       "        text-align: right;\n",
       "    }\n",
       "</style>\n",
       "<table border=\"1\" class=\"dataframe\">\n",
       "  <thead>\n",
       "    <tr style=\"text-align: right;\">\n",
       "      <th></th>\n",
       "      <th>filename</th>\n",
       "      <th>class</th>\n",
       "    </tr>\n",
       "  </thead>\n",
       "  <tbody>\n",
       "    <tr>\n",
       "      <th>0</th>\n",
       "      <td>0.jpg</td>\n",
       "      <td>13,18</td>\n",
       "    </tr>\n",
       "    <tr>\n",
       "      <th>1</th>\n",
       "      <td>1.jpg</td>\n",
       "      <td>19</td>\n",
       "    </tr>\n",
       "    <tr>\n",
       "      <th>2</th>\n",
       "      <td>2.jpg</td>\n",
       "      <td>10</td>\n",
       "    </tr>\n",
       "    <tr>\n",
       "      <th>3</th>\n",
       "      <td>3.jpg</td>\n",
       "      <td>2</td>\n",
       "    </tr>\n",
       "    <tr>\n",
       "      <th>4</th>\n",
       "      <td>4.jpg</td>\n",
       "      <td>8,7</td>\n",
       "    </tr>\n",
       "  </tbody>\n",
       "</table>\n",
       "</div>"
      ],
      "text/plain": [
       "  filename  class\n",
       "0    0.jpg  13,18\n",
       "1    1.jpg     19\n",
       "2    2.jpg     10\n",
       "3    3.jpg      2\n",
       "4    4.jpg    8,7"
      ]
     },
     "execution_count": 3,
     "metadata": {},
     "output_type": "execute_result"
    }
   ],
   "source": [
    "classes = ['sea', \n",
    "          'snowboard', \n",
    "          'skateboard', \n",
    "          'bat', \n",
    "          'traffic light', \n",
    "          'roadside machine', \n",
    "          'road', \n",
    "          'utensil', \n",
    "          'food', \n",
    "          'bottle', \n",
    "          'toothbrush', \n",
    "          'wall-clock',\n",
    "           'bread',\n",
    "          'vegetable',\n",
    "          'banana',\n",
    "          'toaster',\n",
    "          'oven',\n",
    "          'bird',\n",
    "          'umbrella',\n",
    "          'bag'\n",
    "         ]\n",
    "df = pd.read_csv('train.txt', delimiter='\\t', header=None, names=['filename', 'class'])\n",
    "df.head()\n",
    "\n"
   ]
  },
  {
   "cell_type": "markdown",
   "metadata": {},
   "source": [
    "# Split in to test and train"
   ]
  },
  {
   "cell_type": "code",
   "execution_count": 4,
   "metadata": {},
   "outputs": [],
   "source": [
    "try:\n",
    "    df['class'] = df['class'].apply(lambda x:x.split(\",\")) \n",
    "except AttributeError as e:\n",
    "    print('Already converted to a list')\n",
    "    print(e)\n",
    "\n",
    "train_df, test_df = train_test_split(df, test_size=TEST_SIZE)\n"
   ]
  },
  {
   "cell_type": "code",
   "execution_count": 5,
   "metadata": {},
   "outputs": [
    {
     "data": {
      "text/html": [
       "<div>\n",
       "<style scoped>\n",
       "    .dataframe tbody tr th:only-of-type {\n",
       "        vertical-align: middle;\n",
       "    }\n",
       "\n",
       "    .dataframe tbody tr th {\n",
       "        vertical-align: top;\n",
       "    }\n",
       "\n",
       "    .dataframe thead th {\n",
       "        text-align: right;\n",
       "    }\n",
       "</style>\n",
       "<table border=\"1\" class=\"dataframe\">\n",
       "  <thead>\n",
       "    <tr style=\"text-align: right;\">\n",
       "      <th></th>\n",
       "      <th>filename</th>\n",
       "      <th>class</th>\n",
       "    </tr>\n",
       "  </thead>\n",
       "  <tbody>\n",
       "    <tr>\n",
       "      <th>0</th>\n",
       "      <td>0.jpg</td>\n",
       "      <td>[13, 18]</td>\n",
       "    </tr>\n",
       "    <tr>\n",
       "      <th>1</th>\n",
       "      <td>1.jpg</td>\n",
       "      <td>[19]</td>\n",
       "    </tr>\n",
       "    <tr>\n",
       "      <th>2</th>\n",
       "      <td>2.jpg</td>\n",
       "      <td>[10]</td>\n",
       "    </tr>\n",
       "    <tr>\n",
       "      <th>3</th>\n",
       "      <td>3.jpg</td>\n",
       "      <td>[2]</td>\n",
       "    </tr>\n",
       "    <tr>\n",
       "      <th>4</th>\n",
       "      <td>4.jpg</td>\n",
       "      <td>[8, 7]</td>\n",
       "    </tr>\n",
       "  </tbody>\n",
       "</table>\n",
       "</div>"
      ],
      "text/plain": [
       "  filename     class\n",
       "0    0.jpg  [13, 18]\n",
       "1    1.jpg      [19]\n",
       "2    2.jpg      [10]\n",
       "3    3.jpg       [2]\n",
       "4    4.jpg    [8, 7]"
      ]
     },
     "execution_count": 5,
     "metadata": {},
     "output_type": "execute_result"
    }
   ],
   "source": [
    "df.head()"
   ]
  },
  {
   "cell_type": "markdown",
   "metadata": {},
   "source": [
    "# Set up Image Generator"
   ]
  },
  {
   "cell_type": "code",
   "execution_count": 6,
   "metadata": {},
   "outputs": [
    {
     "name": "stdout",
     "output_type": "stream",
     "text": [
      "Found 25540 images belonging to 20 classes.\n",
      "Found 6385 images belonging to 20 classes.\n"
     ]
    }
   ],
   "source": [
    "# Rescale all images by 1./255 and apply image augmentation\n",
    "train_datagen = keras.preprocessing.image.ImageDataGenerator(rescale=1./255)\n",
    "\n",
    "validation_datagen = keras.preprocessing.image.ImageDataGenerator(rescale=1./255)\n",
    "\n",
    "# Flow training images in batches of 20 using train_datagen generator\n",
    "train_generator = train_datagen.flow_from_dataframe(\n",
    "                train_df,  # Source directory for the training images\n",
    "                directory='train2014',\n",
    "                target_size=IMG_SIZE,  \n",
    "                batch_size=BS,\n",
    "                color_mode='rgb',\n",
    "                seed=RANDOM_STATE, \n",
    "                #classes = classes,\n",
    "                shuffle=False,\n",
    "                class_mode='categorical',\n",
    "                rotation_range=20,\n",
    "                width_shift_range=0.2,\n",
    "                height_shift_range=0.2,\n",
    "                horizontal_flip=True,\n",
    "                vertical_flip=True)\n",
    "\n",
    "# Flow validation images in batches of 20 using test_datagen generator\n",
    "test_generator = validation_datagen.flow_from_dataframe(\n",
    "                test_df, # Source directory for the validation images\n",
    "                directory='train2014',\n",
    "                seed=RANDOM_STATE, \n",
    "                color_mode='rgb',\n",
    "                target_size=IMG_SIZE,\n",
    "                batch_size=BS,\n",
    "                #classes = classes\n",
    "                class_mode='categorical',\n",
    "                shuffle=False\n",
    "                )\n",
    "\n",
    "train_filenames = train_generator.filenames\n",
    "train_labels_kv = (train_generator.class_indices)\n",
    "\n",
    "\n",
    "test_filenames = test_generator.filenames\n",
    "test_labels_kv = (test_generator.class_indices)\n"
   ]
  },
  {
   "cell_type": "markdown",
   "metadata": {},
   "source": [
    "# Create base model with pre-trained weights\n",
    "We will create the base model from the InceptionResNetV2 model developed at Google, and pre-trained on the ImageNet dataset, a large dataset of 1.4M images and 1000 classes of web images. This is a powerful model. Let's see what the features that it has learned can do for our cat vs. dog problem.\n",
    "\n",
    "First, we need to pick which intermediate layer of MobileNet V2 we will use for feature extraction. A common practice is to use the output of the very last layer before the flatten operation, the so-called \"bottleneck layer\". The reasoning here is that the following fully-connected layers will be too specialized to the task the network was trained on, and thus the features learned by these layers won't be very useful for a new task. The bottleneck features, however, retain much generality.\n",
    "\n",
    "Let's instantiate an MobileNet V2 model pre-loaded with weights trained on ImageNet. By specifying the include_top=False argument, we load a network that doesn't include the classification layers at the top, which is ideal for feature extraction."
   ]
  },
  {
   "cell_type": "code",
   "execution_count": 7,
   "metadata": {},
   "outputs": [
    {
     "name": "stdout",
     "output_type": "stream",
     "text": [
      "WARNING:tensorflow:From /usr/local/lib/python3.5/dist-packages/tensorflow/python/ops/resource_variable_ops.py:435: colocate_with (from tensorflow.python.framework.ops) is deprecated and will be removed in a future version.\n",
      "Instructions for updating:\n",
      "Colocations handled automatically by placer.\n"
     ]
    },
    {
     "name": "stderr",
     "output_type": "stream",
     "text": [
      "/usr/local/lib/python3.5/dist-packages/keras_applications/resnet50.py:265: UserWarning: The output shape of `ResNet50(include_top=False)` has been changed since Keras 2.2.0.\n",
      "  warnings.warn('The output shape of `ResNet50(include_top=False)` '\n"
     ]
    }
   ],
   "source": [
    "IMG_SHAPE = (IMG_SIZE[0],IMG_SIZE[1] , 3)\n",
    "\n",
    "#base_model = tf.keras.applications.inception_resnet_v2.InceptionResNetV2(include_top=False, weights='imagenet')\n",
    "#base_model = tf.keras.applications.VGG16(input_shape=IMG_SHAPE,include_top=False, weights='imagenet')\n",
    "base_model = tf.keras.applications.ResNet101v2(include_top=False, weights='imagenet', input_shape=IMG_SHAPE)"
   ]
  },
  {
   "cell_type": "markdown",
   "metadata": {},
   "source": [
    "# Feature extraction\n",
    "We will freeze the convolutional base created from the previous step and use that as a feature extractor, add a classifier on top of it and train the top-level classifier.\n",
    "\n",
    "Freeze the convolutional base\n",
    "It's important to freeze the convolutional based before we compile and train the model. By freezing (or setting layer.trainable = False), we prevent the weights in these layers from being updated during training."
   ]
  },
  {
   "cell_type": "code",
   "execution_count": 8,
   "metadata": {},
   "outputs": [
    {
     "name": "stdout",
     "output_type": "stream",
     "text": [
      "Number of layers in the base model:  175\n"
     ]
    }
   ],
   "source": [
    "base_model.trainable = True\n",
    "# Fine tune from this layer onwards\n",
    "\n",
    "\n",
    "# Freeze all the layers before the `fine_tune_at` layer\n",
    "#for layer in base_model.layers[:N_LAYERS_FINE_TUNE]:\n",
    "#    layer.trainable =  False\n",
    "\n",
    "print(\"Number of layers in the base model: \", len(base_model.layers))"
   ]
  },
  {
   "cell_type": "markdown",
   "metadata": {},
   "source": [
    "# Add a classification head\n",
    "Now let's add a few layers on top of the base model:"
   ]
  },
  {
   "cell_type": "code",
   "execution_count": 9,
   "metadata": {},
   "outputs": [],
   "source": [
    "model = tf.keras.Sequential([\n",
    "  base_model,\n",
    "  keras.layers.GlobalAveragePooling2D(),\n",
    "  keras.layers.Dense(20, activation='sigmoid')\n",
    "])"
   ]
  },
  {
   "cell_type": "code",
   "execution_count": 10,
   "metadata": {},
   "outputs": [
    {
     "name": "stdout",
     "output_type": "stream",
     "text": [
      "_________________________________________________________________\n",
      "Layer (type)                 Output Shape              Param #   \n",
      "=================================================================\n",
      "resnet50 (Model)             (None, 8, 8, 2048)        23587712  \n",
      "_________________________________________________________________\n",
      "global_average_pooling2d (Gl (None, 2048)              0         \n",
      "_________________________________________________________________\n",
      "dense (Dense)                (None, 20)                40980     \n",
      "=================================================================\n",
      "Total params: 23,628,692\n",
      "Trainable params: 23,575,572\n",
      "Non-trainable params: 53,120\n",
      "_________________________________________________________________\n"
     ]
    }
   ],
   "source": [
    "model.compile(loss='binary_crossentropy',\n",
    "              optimizer = tf.keras.optimizers.Adam(lr=LR, decay=LR/EPOCHS),\n",
    "              metrics=['accuracy'])\n",
    "\n",
    "model.summary()"
   ]
  },
  {
   "cell_type": "code",
   "execution_count": 11,
   "metadata": {},
   "outputs": [
    {
     "data": {
      "text/plain": [
       "214"
      ]
     },
     "execution_count": 11,
     "metadata": {},
     "output_type": "execute_result"
    }
   ],
   "source": [
    "len(model.trainable_variables)"
   ]
  },
  {
   "cell_type": "code",
   "execution_count": 12,
   "metadata": {},
   "outputs": [
    {
     "name": "stdout",
     "output_type": "stream",
     "text": [
      "WARNING:tensorflow:From /usr/local/lib/python3.5/dist-packages/tensorflow/python/ops/math_ops.py:3066: to_int32 (from tensorflow.python.ops.math_ops) is deprecated and will be removed in a future version.\n",
      "Instructions for updating:\n",
      "Use tf.cast instead.\n",
      "Epoch 1/20\n",
      "100/100 [==============================] - 21s 208ms/step - loss: 0.2909 - acc: 0.9231\n",
      "\n",
      "Epoch 00001: val_loss improved from inf to 0.29091, saving model to best_resnet50_model.h5\n",
      "400/400 [==============================] - 186s 464ms/step - loss: 0.1393 - acc: 0.9478 - val_loss: 0.2909 - val_acc: 0.9231\n",
      "Epoch 2/20\n",
      "100/100 [==============================] - 18s 184ms/step - loss: 0.1464 - acc: 0.9482\n",
      "\n",
      "Epoch 00002: val_loss improved from 0.29091 to 0.14641, saving model to best_resnet50_model.h5\n",
      "400/400 [==============================] - 169s 422ms/step - loss: 0.0774 - acc: 0.9715 - val_loss: 0.1464 - val_acc: 0.9482\n",
      "Epoch 3/20\n",
      "100/100 [==============================] - 19s 193ms/step - loss: 0.1278 - acc: 0.9583\n",
      "\n",
      "Epoch 00003: val_loss improved from 0.14641 to 0.12776, saving model to best_resnet50_model.h5\n",
      "400/400 [==============================] - 169s 422ms/step - loss: 0.0424 - acc: 0.9852 - val_loss: 0.1278 - val_acc: 0.9583\n",
      "Epoch 4/20\n",
      "100/100 [==============================] - 19s 188ms/step - loss: 0.1658 - acc: 0.9555\n",
      "\n",
      "Epoch 00004: val_loss did not improve from 0.12776\n",
      "400/400 [==============================] - 167s 416ms/step - loss: 0.0214 - acc: 0.9931 - val_loss: 0.1658 - val_acc: 0.9555\n",
      "Epoch 5/20\n",
      "100/100 [==============================] - 19s 190ms/step - loss: 0.1677 - acc: 0.9571\n",
      "\n",
      "Epoch 00005: val_loss did not improve from 0.12776\n",
      "400/400 [==============================] - 168s 421ms/step - loss: 0.0137 - acc: 0.9957 - val_loss: 0.1677 - val_acc: 0.9571\n",
      "Epoch 6/20\n",
      "100/100 [==============================] - 19s 189ms/step - loss: 0.1857 - acc: 0.9578\n",
      "\n",
      "Epoch 00006: val_loss did not improve from 0.12776\n",
      "400/400 [==============================] - 168s 420ms/step - loss: 0.0097 - acc: 0.9971 - val_loss: 0.1857 - val_acc: 0.9578\n",
      "Epoch 7/20\n",
      "100/100 [==============================] - 19s 193ms/step - loss: 0.1874 - acc: 0.9570\n",
      "\n",
      "Epoch 00007: val_loss did not improve from 0.12776\n",
      "400/400 [==============================] - 169s 422ms/step - loss: 0.0081 - acc: 0.9976 - val_loss: 0.1874 - val_acc: 0.9570\n",
      "Epoch 8/20\n",
      "100/100 [==============================] - 19s 191ms/step - loss: 0.1981 - acc: 0.9557\n",
      "\n",
      "Epoch 00008: val_loss did not improve from 0.12776\n",
      "400/400 [==============================] - 168s 421ms/step - loss: 0.0081 - acc: 0.9975 - val_loss: 0.1981 - val_acc: 0.9557\n",
      "Epoch 9/20\n",
      "100/100 [==============================] - 20s 196ms/step - loss: 0.1859 - acc: 0.9555\n",
      "\n",
      "Epoch 00009: val_loss did not improve from 0.12776\n",
      "400/400 [==============================] - 168s 420ms/step - loss: 0.0077 - acc: 0.9976 - val_loss: 0.1859 - val_acc: 0.9555\n",
      "Epoch 10/20\n",
      "100/100 [==============================] - 19s 193ms/step - loss: 0.1913 - acc: 0.9566\n",
      "\n",
      "Epoch 00010: val_loss did not improve from 0.12776\n",
      "400/400 [==============================] - 168s 420ms/step - loss: 0.0066 - acc: 0.9979 - val_loss: 0.1913 - val_acc: 0.9566\n",
      "Epoch 11/20\n",
      "100/100 [==============================] - 19s 191ms/step - loss: 0.2248 - acc: 0.9569\n",
      "\n",
      "Epoch 00011: val_loss did not improve from 0.12776\n",
      "400/400 [==============================] - 167s 418ms/step - loss: 0.0056 - acc: 0.9983 - val_loss: 0.2248 - val_acc: 0.9569\n",
      "Epoch 12/20\n",
      "100/100 [==============================] - 19s 194ms/step - loss: 0.2332 - acc: 0.9547\n",
      "\n",
      "Epoch 00012: val_loss did not improve from 0.12776\n",
      "400/400 [==============================] - 167s 418ms/step - loss: 0.0046 - acc: 0.9986 - val_loss: 0.2332 - val_acc: 0.9547\n",
      "Epoch 13/20\n",
      "100/100 [==============================] - 19s 187ms/step - loss: 0.2170 - acc: 0.9550\n",
      "\n",
      "Epoch 00013: val_loss did not improve from 0.12776\n",
      "400/400 [==============================] - 166s 416ms/step - loss: 0.0046 - acc: 0.9986 - val_loss: 0.2170 - val_acc: 0.9550\n",
      "Epoch 14/20\n",
      "100/100 [==============================] - 18s 185ms/step - loss: 0.2182 - acc: 0.9520\n",
      "\n",
      "Epoch 00014: val_loss did not improve from 0.12776\n",
      "400/400 [==============================] - 167s 418ms/step - loss: 0.0072 - acc: 0.9976 - val_loss: 0.2182 - val_acc: 0.9520\n",
      "Epoch 15/20\n",
      "100/100 [==============================] - 19s 188ms/step - loss: 0.2185 - acc: 0.9555\n",
      "\n",
      "Epoch 00015: val_loss did not improve from 0.12776\n",
      "400/400 [==============================] - 167s 417ms/step - loss: 0.0064 - acc: 0.9979 - val_loss: 0.2185 - val_acc: 0.9555\n",
      "Epoch 16/20\n",
      "100/100 [==============================] - 19s 193ms/step - loss: 0.2163 - acc: 0.9591\n",
      "\n",
      "Epoch 00016: val_loss did not improve from 0.12776\n",
      "400/400 [==============================] - 167s 418ms/step - loss: 0.0035 - acc: 0.9989 - val_loss: 0.2163 - val_acc: 0.9591\n",
      "Epoch 17/20\n",
      "100/100 [==============================] - 19s 189ms/step - loss: 0.2156 - acc: 0.9594\n",
      "\n",
      "Epoch 00017: val_loss did not improve from 0.12776\n",
      "400/400 [==============================] - 166s 416ms/step - loss: 0.0019 - acc: 0.9995 - val_loss: 0.2156 - val_acc: 0.9594\n",
      "Epoch 18/20\n",
      "100/100 [==============================] - 19s 188ms/step - loss: 0.2370 - acc: 0.9599\n",
      "\n",
      "Epoch 00018: val_loss did not improve from 0.12776\n",
      "400/400 [==============================] - 167s 417ms/step - loss: 0.0013 - acc: 0.9997 - val_loss: 0.2370 - val_acc: 0.9599\n",
      "Epoch 19/20\n",
      "100/100 [==============================] - 20s 197ms/step - loss: 0.2873 - acc: 0.9535\n",
      "\n",
      "Epoch 00019: val_loss did not improve from 0.12776\n",
      "400/400 [==============================] - 168s 419ms/step - loss: 0.0030 - acc: 0.9991 - val_loss: 0.2873 - val_acc: 0.9535\n",
      "Epoch 20/20\n",
      "100/100 [==============================] - 19s 193ms/step - loss: 0.2423 - acc: 0.9572\n",
      "\n",
      "Epoch 00020: val_loss did not improve from 0.12776\n",
      "400/400 [==============================] - 168s 419ms/step - loss: 0.0125 - acc: 0.9955 - val_loss: 0.2423 - val_acc: 0.9572\n"
     ]
    }
   ],
   "source": [
    "\n",
    "steps_per_epoch = train_generator.n // BS\n",
    "test_steps = test_generator.n // BS\n",
    "es = EarlyStopping(monitor='val_loss', mode='min', verbose=1, patience=20)\n",
    "mc = ModelCheckpoint('best_ResNet101v2_model.h5', monitor='val_loss', mode='min', verbose=1, save_best_only=True)\n",
    "\n",
    "history = model.fit_generator(train_generator, \n",
    "                              steps_per_epoch = steps_per_epoch,\n",
    "                              epochs=EPOCHS, \n",
    "                              workers=N_WORKERS,\n",
    "                              use_multiprocessing=True,\n",
    "                              validation_data=test_generator, \n",
    "                              validation_steps=test_steps,\n",
    "                              callbacks=[es, mc]\n",
    "                             )"
   ]
  },
  {
   "cell_type": "markdown",
   "metadata": {},
   "source": [
    "# Save the entire model as HD5 file\n",
    "Recreate the exact same model, including weights and optimizer.\n",
    "\n",
    "`new_model = keras.models.load_model('my_model.h5')`\n",
    "\n",
    "`new_model.summary()`"
   ]
  },
  {
   "cell_type": "code",
   "execution_count": 13,
   "metadata": {},
   "outputs": [],
   "source": [
    "# Save entire model to a HDF5 file\n",
    "#model_path = 'InceptionResNetV2_train.h5'\n",
    "#model_path = 'Resnet50_train.h5'\n",
    "#model.save(model_path)"
   ]
  },
  {
   "cell_type": "code",
   "execution_count": 14,
   "metadata": {},
   "outputs": [
    {
     "data": {
      "image/png": "[encoded data removed]",
      "text/plain": [
       "<Figure size 576x576 with 2 Axes>"
      ]
     },
     "metadata": {
      "needs_background": "light"
     },
     "output_type": "display_data"
    }
   ],
   "source": [
    "acc = history.history['acc']\n",
    "val_acc = history.history['val_acc']\n",
    "\n",
    "loss = history.history['loss']\n",
    "val_loss = history.history['val_loss']\n",
    "\n",
    "plt.figure(figsize=(8, 8))\n",
    "plt.subplot(2, 1, 1)\n",
    "plt.plot(acc, label='Training Accuracy')\n",
    "plt.plot(val_acc, label='Validation Accuracy')\n",
    "plt.legend(loc='lower right')\n",
    "plt.ylabel('Accuracy')\n",
    "plt.ylim([min(plt.ylim()),1])\n",
    "plt.title('Training and Validation Accuracy')\n",
    "\n",
    "plt.subplot(2, 1, 2)\n",
    "plt.plot(loss, label='Training Loss')\n",
    "plt.plot(val_loss, label='Validation Loss')\n",
    "plt.legend(loc='upper right')\n",
    "plt.ylabel('Cross Entropy')\n",
    "plt.ylim([0,max(plt.ylim())])\n",
    "plt.title('Training and Validation Loss')\n",
    "plt.show()"
   ]
  },
  {
   "cell_type": "markdown",
   "metadata": {},
   "source": [
    "# Predictions"
   ]
  },
  {
   "cell_type": "code",
   "execution_count": 18,
   "metadata": {},
   "outputs": [
    {
     "name": "stdout",
     "output_type": "stream",
     "text": [
      "100/100 [==============================] - 30s 305ms/step\n"
     ]
    }
   ],
   "source": [
    "\n",
    "# reset validation_generator\n",
    "new_model = keras.models.load_model('best_resnet50_model.h5')\n",
    "pred = new_model.predict_generator(generator=test_generator, verbose=1,steps=test_steps)\n",
    "\n"
   ]
  },
  {
   "cell_type": "code",
   "execution_count": 19,
   "metadata": {},
   "outputs": [],
   "source": [
    "\n",
    "\n",
    "import IPython.display as display\n",
    "\n",
    "\n",
    "predicted_class_indices=np.argmax(pred,axis=1) # top 1 prediction\n",
    "labels_vk = dict([(v,k) for k,v in test_labels_kv.items()])\n",
    "predictions = [labels_vk[k] for k in predicted_class_indices]\n",
    "\n",
    "results=pd.DataFrame({\"Filename\":test_filenames,\n",
    "                      \"Predictions\":predictions })\n",
    "\n",
    "results.to_csv(\"results_vgg16.csv\",index=False)\n",
    "\n",
    "correct_pred = []\n",
    "\n",
    "\n",
    "count = 0\n",
    "\n",
    "for image_path, y_pred in zip(test_filenames, predictions):\n",
    "\n",
    "    actual = df[df[\"filename\"]==os.path.basename(image_path)]\n",
    "    y_train = actual['class'].tolist()\n",
    "    if str(y_pred) in y_train[0]:\n",
    "        #for x in y_train[0]:\n",
    "        #if int(x) == int(y_pred): \n",
    "        correct_pred.append(image_path)\n",
    "\n",
    "    "
   ]
  },
  {
   "cell_type": "code",
   "execution_count": 20,
   "metadata": {},
   "outputs": [
    {
     "name": "stdout",
     "output_type": "stream",
     "text": [
      "70.55599060297573\n"
     ]
    }
   ],
   "source": [
    "\n",
    "acc = (len(correct_pred)/float(len(test_filenames)))  * 100    \n",
    "print(acc)"
   ]
  },
  {
   "cell_type": "code",
   "execution_count": null,
   "metadata": {},
   "outputs": [],
   "source": []
  }
 ],
 "metadata": {
  "kernelspec": {
   "display_name": "Python 3",
   "language": "python",
   "name": "python3"
  },
  "language_info": {
   "codemirror_mode": {
    "name": "ipython",
    "version": 3
   },
   "file_extension": ".py",
   "mimetype": "text/x-python",
   "name": "python",
   "nbconvert_exporter": "python",
   "pygments_lexer": "ipython3",
   "version": "3.5.3"
  },
  "toc": {
   "nav_menu": {},
   "number_sections": true,
   "sideBar": true,
   "skip_h1_title": false,
   "toc_cell": false,
   "toc_position": {},
   "toc_section_display": "block",
   "toc_window_display": false
  }
 },
 "nbformat": 4,
 "nbformat_minor": 2
}
